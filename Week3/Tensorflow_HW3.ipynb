{
  "cells": [
    {
      "cell_type": "markdown",
      "metadata": {
        "id": "view-in-github",
        "colab_type": "text"
      },
      "source": [
        "<a href=\"https://colab.research.google.com/github/iannwtf19/iannwtf19/blob/main/Week3/Tensorflow_HW3.ipynb\" target=\"_parent\"><img src=\"https://colab.research.google.com/assets/colab-badge.svg\" alt=\"Open In Colab\"/></a>"
      ]
    },
    {
      "cell_type": "code",
      "execution_count": 51,
      "outputs": [],
      "source": [
        "import tensorflow as tf\n",
        "import tensorflow_datasets as tfds\n",
        "import numpy as np\n",
        "import matplotlib.pyplot as plt\n",
        "from IPython.display import Markdown as md"
      ],
      "metadata": {
        "id": "GZHGbxyFUEJW"
      }
    },
    {
      "cell_type": "markdown",
      "source": [
        "First we load our MNIST data as two separate datasets for training and testing"
      ],
      "metadata": {
        "collapsed": false,
        "id": "2oLeUAKCUEJX"
      }
    },
    {
      "cell_type": "code",
      "execution_count": 52,
      "metadata": {
        "id": "oyW8E4bC2dZ3"
      },
      "outputs": [],
      "source": [
        "(train_ds, test_ds), ds_info = tfds.load (\"mnist\", split =[ \"train\", \"test\" ], as_supervised = True, with_info = True )"
      ]
    },
    {
      "cell_type": "markdown",
      "source": [
        "Let's have a look at our dataset information"
      ],
      "metadata": {
        "collapsed": false,
        "id": "Mn29BLDXUEJY"
      }
    },
    {
      "cell_type": "code",
      "execution_count": 53,
      "metadata": {
        "colab": {
          "base_uri": "https://localhost:8080/",
          "height": 602
        },
        "id": "uMfejtnG23Hj",
        "outputId": "d41b4555-305b-408e-ce5c-b3ef3f5b9e52"
      },
      "outputs": [
        {
          "output_type": "stream",
          "name": "stdout",
          "text": [
            "tfds.core.DatasetInfo(\n",
            "    name='mnist',\n",
            "    full_name='mnist/3.0.1',\n",
            "    description=\"\"\"\n",
            "    The MNIST database of handwritten digits.\n",
            "    \"\"\",\n",
            "    homepage='http://yann.lecun.com/exdb/mnist/',\n",
            "    data_path='~/tensorflow_datasets/mnist/3.0.1',\n",
            "    file_format=tfrecord,\n",
            "    download_size=11.06 MiB,\n",
            "    dataset_size=21.00 MiB,\n",
            "    features=FeaturesDict({\n",
            "        'image': Image(shape=(28, 28, 1), dtype=tf.uint8),\n",
            "        'label': ClassLabel(shape=(), dtype=tf.int64, num_classes=10),\n",
            "    }),\n",
            "    supervised_keys=('image', 'label'),\n",
            "    disable_shuffling=False,\n",
            "    splits={\n",
            "        'test': <SplitInfo num_examples=10000, num_shards=1>,\n",
            "        'train': <SplitInfo num_examples=60000, num_shards=1>,\n",
            "    },\n",
            "    citation=\"\"\"@article{lecun2010mnist,\n",
            "      title={MNIST handwritten digit database},\n",
            "      author={LeCun, Yann and Cortes, Corinna and Burges, CJ},\n",
            "      journal={ATT Labs [Online]. Available: http://yann.lecun.com/exdb/mnist},\n",
            "      volume={2},\n",
            "      year={2010}\n",
            "    }\"\"\",\n",
            ")\n"
          ]
        },
        {
          "output_type": "execute_result",
          "data": {
            "text/plain": [
              "<IPython.core.display.Markdown object>"
            ],
            "text/markdown": "* **Number of training images:** 60000\n* **Number of test images:** 10000\n* **Image shape:** (28, 28, 1)\n* **Range of pixel values:** 0-255"
          },
          "metadata": {},
          "execution_count": 53
        }
      ],
      "source": [
        "print(ds_info)\n",
        "md(f\"* **Number of training images:** {ds_info.splits['train'].num_examples}\\n\"\n",
        "   f\"* **Number of test images:** {ds_info.splits['test'].num_examples}\\n\"\n",
        "   f\"* **Image shape:** {ds_info.features['image'].shape}\\n\"\n",
        "   f\"* **Range of pixel values:** 0-255\")"
      ]
    },
    {
      "cell_type": "markdown",
      "metadata": {
        "id": "K2NnBF152_Xh"
      },
      "source": [
        "* **Number of training images:** 60000\n",
        "* **Number of test images:** 10000\n",
        "* **Image shape:** 28x28\n",
        "* **Range of pixel values:** 0-255\n",
        "\n",
        "Our data looks like this:"
      ]
    },
    {
      "cell_type": "code",
      "execution_count": 30,
      "metadata": {
        "colab": {
          "base_uri": "https://localhost:8080/",
          "height": 1000
        },
        "id": "RukDuiJjrMi5",
        "outputId": "ab6fbc7e-7cd7-49e0-8b8a-ed0e0e07e4cd"
      },
      "outputs": [
        {
          "output_type": "display_data",
          "data": {
            "text/plain": [
              "<Figure size 648x648 with 9 Axes>"
            ],
            "image/png": "[encoded data removed]"
          },
          "metadata": {}
        },
        {
          "output_type": "execute_result",
          "data": {
            "text/plain": [
              "<Figure size 648x648 with 9 Axes>"
            ],
            "image/png": "[encoded data removed]"
          },
          "metadata": {},
          "execution_count": 30
        }
      ],
      "source": [
        "tfds.show_examples(train_ds, ds_info)"
      ]
    },
    {
      "cell_type": "markdown",
      "source": [
        "Function for preprocessing the dataset"
      ],
      "metadata": {
        "collapsed": false,
        "id": "YsFhC0crUEJZ"
      }
    },
    {
      "cell_type": "code",
      "execution_count": 54,
      "metadata": {
        "id": "u6YGhPtMHyRO"
      },
      "outputs": [],
      "source": [
        "def mnist_prepare(mnist):\n",
        "    \"\"\"\n",
        "    Pre-process mnist dataset\n",
        "    :param mnist: mnist dataset\n",
        "    :return: dataset with float values, input as tensor between -1 and 1, target as one-hot tensor\n",
        "    \"\"\"\n",
        "    # change the datatype from uint8 to tf.float values (first lambda task)\n",
        "    mnist = mnist.map(lambda img, target: (tf.cast(img, tf.float32), target))\n",
        "\n",
        "    # flatten the images (second lambda task)\n",
        "    mnist = mnist.map(lambda img, target: (tf.reshape(img, (-1,)), target))\n",
        "\n",
        "    # normalize the values (third lambda task)\n",
        "    mnist = mnist.map(lambda img, target: ((img / 128.) - 1, target))\n",
        "\n",
        "    # one-hot vector (fourth lambda task)\n",
        "    mnist = mnist.map(lambda img, target: (img, tf.one_hot(target, depth=10)))\n",
        "\n",
        "    mnist.cache()\n",
        "\n",
        "    return mnist"
      ]
    },
    {
      "cell_type": "markdown",
      "source": [
        "Let's use it to prepare the training and test datasets"
      ],
      "metadata": {
        "collapsed": false,
        "id": "_2CN8mQpUEJa"
      }
    },
    {
      "cell_type": "code",
      "execution_count": 55,
      "outputs": [],
      "source": [
        "# Prepare train dataset\n",
        "train_ds = mnist_prepare(train_ds)\n",
        "train_ds = train_ds.shuffle(ds_info.splits['train'].num_examples)\n",
        "train_ds = train_ds.batch(32)\n",
        "train_ds = train_ds.prefetch(32)\n",
        "\n",
        "# Prepare test dataset\n",
        "test_ds = mnist_prepare(test_ds)\n",
        "test_ds = test_ds.shuffle(ds_info.splits['test'].num_examples)\n",
        "test_ds = test_ds.batch(32)\n",
        "test_ds = test_ds.prefetch(32)"
      ],
      "metadata": {
        "id": "j6chrvvWUEJa"
      }
    },
    {
      "cell_type": "markdown",
      "source": [
        "We define our hyperparameters"
      ],
      "metadata": {
        "collapsed": false,
        "id": "L9Zxjh3FUEJa"
      }
    },
    {
      "cell_type": "code",
      "execution_count": 56,
      "outputs": [],
      "source": [
        "# Hyperparameters\n",
        "no_epochs = 10\n",
        "learning_rate = 0.01\n",
        "\n",
        "# Loss function will be Categorical Cross Entropy since this is a classification task\n",
        "loss_func = tf.keras.losses.CategoricalCrossentropy()\n",
        "\n",
        "# Use gradient descent optimizer\n",
        "optimizer = tf.keras.optimizers.SGD(learning_rate=learning_rate)"
      ],
      "metadata": {
        "id": "PG2aLF81UEJa"
      }
    },
    {
      "cell_type": "markdown",
      "source": [
        "Let's define our model"
      ],
      "metadata": {
        "collapsed": false,
        "id": "8LH5nZzHUEJb"
      }
    },
    {
      "cell_type": "code",
      "execution_count": 57,
      "metadata": {
        "id": "Yik-T0SgQhuo"
      },
      "outputs": [],
      "source": [
        "class Model(tf.Module):\n",
        "\n",
        "    def __init__(self):\n",
        "        super(Model, self).__init__()\n",
        "\n",
        "        self.dense1 = tf.keras.layers.Dense(units=64, activation=\"relu\")\n",
        "        self.dense2 = tf.keras.layers.Dense(units=64, activation=\"relu\")\n",
        "        self.out = tf.keras.layers.Dense(units=10, activation=\"softmax\")\n",
        "\n",
        "    @tf.function\n",
        "    def __call__(self, input):\n",
        "        x = self.dense1(input)\n",
        "        x = self.dense2(x)\n",
        "        x = self.out(x)\n",
        "\n",
        "        return x"
      ]
    },
    {
      "cell_type": "markdown",
      "source": [
        "Let's define our training function"
      ],
      "metadata": {
        "collapsed": false,
        "id": "gvaaSHNzUEJb"
      }
    },
    {
      "cell_type": "code",
      "execution_count": 58,
      "metadata": {
        "id": "X_u2RRX7dHz4"
      },
      "outputs": [],
      "source": [
        "def training(model, train_ds, loss_func, optimizer):\n",
        "    \"\"\"\n",
        "    :param model: Tensorflow model to be used\n",
        "    :param train_ds: Training dataset that will be used to train the model\n",
        "    :param loss_func: Keras loss function\n",
        "    :param optimizer: Keras optimizer\n",
        "    :return: Average loss for the given training dataset\n",
        "    \"\"\"\n",
        "    losses = []\n",
        "    for input, target in train_ds:\n",
        "        with tf.GradientTape() as tape:\n",
        "            prediction = model(input)\n",
        "            loss = loss_func(target, prediction)\n",
        "        losses.append(loss)\n",
        "        gradients = tape.gradient(loss, model.trainable_variables)\n",
        "        optimizer.apply_gradients(zip(gradients, model.trainable_variables))\n",
        "\n",
        "    return tf.reduce_mean(losses)"
      ]
    },
    {
      "cell_type": "markdown",
      "source": [
        "And define our test function"
      ],
      "metadata": {
        "collapsed": false,
        "id": "UfeQL3qCUEJb"
      }
    },
    {
      "cell_type": "code",
      "execution_count": 59,
      "outputs": [],
      "source": [
        "def test(model, test_ds, loss_func):\n",
        "    \"\"\"\n",
        "    :param model: Tensorflow model to be used\n",
        "    :param test_ds: Test dataset\n",
        "    :param loss_func: Keras loss function\n",
        "    :return: Average loss for the given test dataset\n",
        "    \"\"\"\n",
        "    losses = []\n",
        "    accuracies = []\n",
        "\n",
        "    for input, target in test_ds:\n",
        "        prediction = model(input)\n",
        "        loss = loss_func(target, prediction)\n",
        "        acc = np.argmax(target, axis=1) == np.argmax(prediction, axis=1)  # Prediction correct or not?\n",
        "        losses.append(loss.numpy())\n",
        "        accuracies.append(np.mean(acc))  # Percentage of correct predictions\n",
        "\n",
        "    test_loss = tf.reduce_mean(losses)\n",
        "    test_acc = tf.reduce_mean(accuracies)\n",
        "\n",
        "    return test_loss, test_acc"
      ],
      "metadata": {
        "id": "JZNSc0_dUEJb"
      }
    },
    {
      "cell_type": "markdown",
      "source": [
        "**Initialization**\n",
        "Here we initialize our model, losses and accuracies.\n",
        "Then we test our model with test and training datasets once, to see how it performs without training."
      ],
      "metadata": {
        "collapsed": false,
        "id": "05h-r1JyUEJc"
      }
    },
    {
      "cell_type": "code",
      "execution_count": 60,
      "metadata": {
        "colab": {
          "base_uri": "https://localhost:8080/"
        },
        "id": "dKvcSH0oUXfT",
        "outputId": "3d118764-7530-4fff-f401-644f43c540ed"
      },
      "outputs": [
        {
          "output_type": "stream",
          "name": "stdout",
          "text": [
            "Initial training loss: 2.784440040588379\n",
            "Initial test loss: 2.7595911026000977\n",
            "Initial test accuracy: 0.10343450479233227\n"
          ]
        }
      ],
      "source": [
        "model = Model()\n",
        "# Losses and accuracies that will be plotted later\n",
        "training_losses = []\n",
        "test_losses = []\n",
        "test_accuracies = []\n",
        "\n",
        "# Calculate initial losses and accuracies before any training\n",
        "training_loss, _ = test(model, train_ds, loss_func)\n",
        "print(f\"Initial training loss: {training_loss}\")\n",
        "training_losses.append(training_loss)\n",
        "test_loss, test_acc = test(model, test_ds, loss_func)\n",
        "print(f\"Initial test loss: {test_loss}\")\n",
        "print(f\"Initial test accuracy: {test_acc}\")\n",
        "test_losses.append(test_loss)\n",
        "test_accuracies.append(test_acc)"
      ]
    },
    {
      "cell_type": "markdown",
      "source": [
        "**Training Loop**"
      ],
      "metadata": {
        "collapsed": false,
        "id": "sHILvAhSUEJc"
      }
    },
    {
      "cell_type": "code",
      "execution_count": 61,
      "metadata": {
        "id": "l9KfANK-WnyY",
        "pycharm": {
          "is_executing": true
        },
        "colab": {
          "base_uri": "https://localhost:8080/"
        },
        "outputId": "b3d2ba37-3867-4ef8-9969-ecf1aea2fa71"
      },
      "outputs": [
        {
          "output_type": "stream",
          "name": "stdout",
          "text": [
            "- Epoch 0 -\n",
            "Mean training loss: 0.47328951954841614\n",
            "Mean test loss: 0.2790221571922302\n",
            "Mean test accuracy: 0.919129392971246\n",
            "- Epoch 1 -\n",
            "Mean training loss: 0.2649197578430176\n",
            "Mean test loss: 0.23058784008026123\n",
            "Mean test accuracy: 0.9300119808306709\n",
            "- Epoch 2 -\n",
            "Mean training loss: 0.2161666452884674\n",
            "Mean test loss: 0.20399489998817444\n",
            "Mean test accuracy: 0.9359025559105432\n",
            "- Epoch 3 -\n",
            "Mean training loss: 0.18517036736011505\n",
            "Mean test loss: 0.17793986201286316\n",
            "Mean test accuracy: 0.9479832268370607\n",
            "- Epoch 4 -\n",
            "Mean training loss: 0.16360948979854584\n",
            "Mean test loss: 0.18158075213432312\n",
            "Mean test accuracy: 0.9450878594249201\n",
            "- Epoch 5 -\n",
            "Mean training loss: 0.1469196379184723\n",
            "Mean test loss: 0.14873093366622925\n",
            "Mean test accuracy: 0.9571685303514377\n",
            "- Epoch 6 -\n",
            "Mean training loss: 0.13337743282318115\n",
            "Mean test loss: 0.14483264088630676\n",
            "Mean test accuracy: 0.9564696485623003\n",
            "- Epoch 7 -\n",
            "Mean training loss: 0.1225220113992691\n",
            "Mean test loss: 0.12997812032699585\n",
            "Mean test accuracy: 0.9607627795527156\n",
            "- Epoch 8 -\n",
            "Mean training loss: 0.11322759091854095\n",
            "Mean test loss: 0.11998336762189865\n",
            "Mean test accuracy: 0.9647563897763578\n",
            "- Epoch 9 -\n",
            "Mean training loss: 0.10523683577775955\n",
            "Mean test loss: 0.11491581797599792\n",
            "Mean test accuracy: 0.9660543130990416\n"
          ]
        }
      ],
      "source": [
        "for i in range(no_epochs):\n",
        "    loss = training(model, train_ds, loss_func, optimizer)\n",
        "    print(f\"- Epoch {i} -\")\n",
        "    print(f\"Mean training loss: {loss}\")\n",
        "    training_losses.append(loss)\n",
        "\n",
        "    test_loss, test_acc = test(model, test_ds, loss_func)\n",
        "    print(f\"Mean test loss: {test_loss}\")\n",
        "    print(f\"Mean test accuracy: {test_acc}\")\n",
        "    test_losses.append(test_loss)\n",
        "    test_accuracies.append(test_acc)"
      ]
    },
    {
      "cell_type": "markdown",
      "source": [
        "**Visualization**"
      ],
      "metadata": {
        "collapsed": false,
        "id": "ljOcqV3mUEJd"
      }
    },
    {
      "cell_type": "code",
      "execution_count": 62,
      "outputs": [
        {
          "output_type": "display_data",
          "data": {
            "text/plain": [
              "<Figure size 432x288 with 1 Axes>"
            ],
            "image/png": "[encoded data removed]"
          },
          "metadata": {
            "needs_background": "light"
          }
        }
      ],
      "source": [
        "plt.figure()\n",
        "line1, = plt.plot(training_losses)\n",
        "line2, = plt.plot(test_losses)\n",
        "line3, = plt.plot(test_accuracies)\n",
        "plt.xlabel(\"Training steps\")\n",
        "plt.ylabel(\"Loss / Accuracy\")\n",
        "plt.legend((line1, line2, line3), (\"Training loss\", \"Test loss\", \"Test Accuracy\"))\n",
        "plt.show()"
      ],
      "metadata": {
        "colab": {
          "base_uri": "https://localhost:8080/",
          "height": 279
        },
        "id": "6X4EIoeXUEJd",
        "outputId": "a5fc38f3-8e35-4149-f767-335557515f50"
      }
    }
  ],
  "metadata": {
    "colab": {
      "provenance": [],
      "include_colab_link": true
    },
    "kernelspec": {
      "display_name": "Python 3 (ipykernel)",
      "language": "python",
      "name": "python3"
    },
    "language_info": {
      "codemirror_mode": {
        "name": "ipython",
        "version": 3
      },
      "file_extension": ".py",
      "mimetype": "text/x-python",
      "name": "python",
      "nbconvert_exporter": "python",
      "pygments_lexer": "ipython3",
      "version": "3.10.8"
    }
  },
  "nbformat": 4,
  "nbformat_minor": 0
}