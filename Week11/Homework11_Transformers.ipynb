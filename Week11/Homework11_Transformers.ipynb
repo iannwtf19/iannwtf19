{
  "nbformat": 4,
  "nbformat_minor": 0,
  "metadata": {
    "colab": {
      "provenance": [],
      "machine_shape": "hm",
      "authorship_tag": "ABX9TyP4oPLJ3XrzT7/7lvrJMtES",
      "include_colab_link": true
    },
    "kernelspec": {
      "name": "python3",
      "display_name": "Python 3"
    },
    "language_info": {
      "name": "python"
    },
    "accelerator": "GPU",
    "gpuClass": "standard"
  },
  "cells": [
    {
      "cell_type": "markdown",
      "metadata": {
        "id": "view-in-github",
        "colab_type": "text"
      },
      "source": [
        "<a href=\"https://colab.research.google.com/github/iannwtf19/iannwtf19/blob/week11-transformers/Week11/Homework11_Transformers.ipynb\" target=\"_parent\"><img src=\"https://colab.research.google.com/assets/colab-badge.svg\" alt=\"Open In Colab\"/></a>"
      ]
    },
    {
      "cell_type": "code",
      "source": [
        "import tensorflow as tf\n",
        "import numpy as np\n",
        "import os\n",
        "from tqdm import tqdm\n",
        "import datetime"
      ],
      "metadata": {
        "id": "9L5QUBq1Z-RD"
      },
      "execution_count": 49,
      "outputs": []
    },
    {
      "cell_type": "markdown",
      "source": [
        "# Data preparation\n",
        "## Load file\n",
        "First let's mount Google Drive, where we keep our input file (the bible).\n",
        "If you are working locally & don't need Google Drive you may skip this cell.\n",
        "If the file does not exist yet, we will create it."
      ],
      "metadata": {
        "id": "gR-zlUH1Z0ON"
      }
    },
    {
      "cell_type": "code",
      "execution_count": 3,
      "metadata": {
        "colab": {
          "base_uri": "https://localhost:8080/"
        },
        "id": "blrdwsYZZqyJ",
        "outputId": "3033ad23-ed7a-4115-8c64-dd14fb332b3d"
      },
      "outputs": [
        {
          "output_type": "stream",
          "name": "stdout",
          "text": [
            "Mounted at /content/drive\n"
          ]
        }
      ],
      "source": [
        "# Mount Google Drive\n",
        "from google.colab import drive\n",
        "drive.mount(\"/content/drive\", force_remount=True)\n",
        "os.chdir(\"drive/MyDrive/tensorflow\")"
      ]
    },
    {
      "cell_type": "markdown",
      "source": [
        "Next, we download the file if it doesn’t already exist. Finally, open and read it."
      ],
      "metadata": {
        "id": "2MtLPCekZ5Q8"
      }
    },
    {
      "cell_type": "code",
      "source": [
        "import urllib.request\n",
        "filename = 'bible.txt'\n",
        "if not os.path.isfile(filename):\n",
        "    urllib.request.urlretrieve('https://raw.githubusercontent.com/iannwtf19/iannwtf19/main/Week10/bible.txt', 'bible.txt')"
      ],
      "metadata": {
        "id": "QIqC_AdrZ7rG"
      },
      "execution_count": 4,
      "outputs": []
    },
    {
      "cell_type": "code",
      "source": [
        "# Open input file\n",
        "text_file = open(\"bible.txt\")\n",
        "# Read the text file as a string (a sequence of characters)\n",
        "corpus = text_file.read()"
      ],
      "metadata": {
        "id": "UhZ1T-cgaB1g"
      },
      "execution_count": 50,
      "outputs": []
    },
    {
      "cell_type": "markdown",
      "source": [
        "Let's see what the text looks like"
      ],
      "metadata": {
        "id": "Jj7AUU5EaK6A"
      }
    },
    {
      "cell_type": "code",
      "source": [
        "print(corpus[:200])"
      ],
      "metadata": {
        "colab": {
          "base_uri": "https://localhost:8080/"
        },
        "id": "-TjdYktQaMny",
        "outputId": "5fd38115-cd97-472e-a943-ddcca8f31126"
      },
      "execution_count": 51,
      "outputs": [
        {
          "output_type": "stream",
          "name": "stdout",
          "text": [
            "The First Book of Moses:  Called Genesis\n",
            "\n",
            "\n",
            "1:1 In the beginning God created the heaven and the earth.\n",
            "\n",
            "1:2 And the earth was without form, and void; and darkness was upon\n",
            "the face of the deep. And the\n"
          ]
        }
      ]
    },
    {
      "cell_type": "markdown",
      "source": [
        "# Tokenization"
      ],
      "metadata": {
        "id": "m6YynGBEaPgx"
      }
    },
    {
      "cell_type": "markdown",
      "source": [
        "## Cleaning input text"
      ],
      "metadata": {
        "id": "99au8l06dLmf"
      }
    },
    {
      "cell_type": "code",
      "source": [
        "import re\n",
        "\n",
        "# Preprocess the text data\n",
        "\n",
        "preprocessed_text_data = re.sub(r'[^a-zA-Z ]', '', corpus).lower()\n",
        "\n",
        "# Print an example of the preprocessed text\n",
        "print(preprocessed_text_data[:500])"
      ],
      "metadata": {
        "colab": {
          "base_uri": "https://localhost:8080/"
        },
        "id": "FZqA5vqUaSJJ",
        "outputId": "ad33887a-dbdb-4cba-8514-b0c4726c3ed0"
      },
      "execution_count": 52,
      "outputs": [
        {
          "output_type": "stream",
          "name": "stdout",
          "text": [
            "the first book of moses  called genesis in the beginning god created the heaven and the earth and the earth was without form and void and darkness was uponthe face of the deep and the spirit of god moved upon the face of thewaters and god said let there be light and there was light and god saw the light that it was good and god divided the lightfrom the darkness and god called the light day and the darkness he called nightand the evening and the morning were the first day and god said let there \n"
          ]
        }
      ]
    },
    {
      "cell_type": "markdown",
      "source": [
        "## SentencePieceTokenizer"
      ],
      "metadata": {
        "id": "CDieq1q2dItn"
      }
    },
    {
      "cell_type": "code",
      "source": [
        "!pip install \"tensorflow-text==2.11.*\""
      ],
      "metadata": {
        "colab": {
          "base_uri": "https://localhost:8080/"
        },
        "id": "1D5XS8k6eZoB",
        "outputId": "1a515ff7-a95b-43d3-df68-4007e2dc48a0"
      },
      "execution_count": 8,
      "outputs": [
        {
          "output_type": "stream",
          "name": "stdout",
          "text": [
            "Looking in indexes: https://pypi.org/simple, https://us-python.pkg.dev/colab-wheels/public/simple/\n",
            "Collecting tensorflow-text==2.11.*\n",
            "  Downloading tensorflow_text-2.11.0-cp39-cp39-manylinux_2_17_x86_64.manylinux2014_x86_64.whl (5.8 MB)\n",
            "\u001b[2K     \u001b[90m━━━━━━━━━━━━━━━━━━━━━━━━━━━━━━━━━━━━━━━━\u001b[0m \u001b[32m5.8/5.8 MB\u001b[0m \u001b[31m45.7 MB/s\u001b[0m eta \u001b[36m0:00:00\u001b[0m\n",
            "\u001b[?25hRequirement already satisfied: tensorflow<2.12,>=2.11.0 in /usr/local/lib/python3.9/dist-packages (from tensorflow-text==2.11.*) (2.11.0)\n",
            "Requirement already satisfied: tensorflow-hub>=0.8.0 in /usr/local/lib/python3.9/dist-packages (from tensorflow-text==2.11.*) (0.13.0)\n",
            "Requirement already satisfied: flatbuffers>=2.0 in /usr/local/lib/python3.9/dist-packages (from tensorflow<2.12,>=2.11.0->tensorflow-text==2.11.*) (23.3.3)\n",
            "Requirement already satisfied: absl-py>=1.0.0 in /usr/local/lib/python3.9/dist-packages (from tensorflow<2.12,>=2.11.0->tensorflow-text==2.11.*) (1.4.0)\n",
            "Requirement already satisfied: termcolor>=1.1.0 in /usr/local/lib/python3.9/dist-packages (from tensorflow<2.12,>=2.11.0->tensorflow-text==2.11.*) (2.2.0)\n",
            "Requirement already satisfied: h5py>=2.9.0 in /usr/local/lib/python3.9/dist-packages (from tensorflow<2.12,>=2.11.0->tensorflow-text==2.11.*) (3.8.0)\n",
            "Requirement already satisfied: libclang>=13.0.0 in /usr/local/lib/python3.9/dist-packages (from tensorflow<2.12,>=2.11.0->tensorflow-text==2.11.*) (15.0.6.1)\n",
            "Requirement already satisfied: google-pasta>=0.1.1 in /usr/local/lib/python3.9/dist-packages (from tensorflow<2.12,>=2.11.0->tensorflow-text==2.11.*) (0.2.0)\n",
            "Requirement already satisfied: typing-extensions>=3.6.6 in /usr/local/lib/python3.9/dist-packages (from tensorflow<2.12,>=2.11.0->tensorflow-text==2.11.*) (4.5.0)\n",
            "Requirement already satisfied: astunparse>=1.6.0 in /usr/local/lib/python3.9/dist-packages (from tensorflow<2.12,>=2.11.0->tensorflow-text==2.11.*) (1.6.3)\n",
            "Requirement already satisfied: tensorflow-estimator<2.12,>=2.11.0 in /usr/local/lib/python3.9/dist-packages (from tensorflow<2.12,>=2.11.0->tensorflow-text==2.11.*) (2.11.0)\n",
            "Requirement already satisfied: wrapt>=1.11.0 in /usr/local/lib/python3.9/dist-packages (from tensorflow<2.12,>=2.11.0->tensorflow-text==2.11.*) (1.15.0)\n",
            "Requirement already satisfied: numpy>=1.20 in /usr/local/lib/python3.9/dist-packages (from tensorflow<2.12,>=2.11.0->tensorflow-text==2.11.*) (1.22.4)\n",
            "Requirement already satisfied: setuptools in /usr/local/lib/python3.9/dist-packages (from tensorflow<2.12,>=2.11.0->tensorflow-text==2.11.*) (67.6.0)\n",
            "Requirement already satisfied: six>=1.12.0 in /usr/local/lib/python3.9/dist-packages (from tensorflow<2.12,>=2.11.0->tensorflow-text==2.11.*) (1.16.0)\n",
            "Requirement already satisfied: grpcio<2.0,>=1.24.3 in /usr/local/lib/python3.9/dist-packages (from tensorflow<2.12,>=2.11.0->tensorflow-text==2.11.*) (1.51.3)\n",
            "Requirement already satisfied: tensorflow-io-gcs-filesystem>=0.23.1 in /usr/local/lib/python3.9/dist-packages (from tensorflow<2.12,>=2.11.0->tensorflow-text==2.11.*) (0.31.0)\n",
            "Requirement already satisfied: gast<=0.4.0,>=0.2.1 in /usr/local/lib/python3.9/dist-packages (from tensorflow<2.12,>=2.11.0->tensorflow-text==2.11.*) (0.4.0)\n",
            "Requirement already satisfied: protobuf<3.20,>=3.9.2 in /usr/local/lib/python3.9/dist-packages (from tensorflow<2.12,>=2.11.0->tensorflow-text==2.11.*) (3.19.6)\n",
            "Requirement already satisfied: keras<2.12,>=2.11.0 in /usr/local/lib/python3.9/dist-packages (from tensorflow<2.12,>=2.11.0->tensorflow-text==2.11.*) (2.11.0)\n",
            "Requirement already satisfied: opt-einsum>=2.3.2 in /usr/local/lib/python3.9/dist-packages (from tensorflow<2.12,>=2.11.0->tensorflow-text==2.11.*) (3.3.0)\n",
            "Requirement already satisfied: tensorboard<2.12,>=2.11 in /usr/local/lib/python3.9/dist-packages (from tensorflow<2.12,>=2.11.0->tensorflow-text==2.11.*) (2.11.2)\n",
            "Requirement already satisfied: packaging in /usr/local/lib/python3.9/dist-packages (from tensorflow<2.12,>=2.11.0->tensorflow-text==2.11.*) (23.0)\n",
            "Requirement already satisfied: wheel<1.0,>=0.23.0 in /usr/local/lib/python3.9/dist-packages (from astunparse>=1.6.0->tensorflow<2.12,>=2.11.0->tensorflow-text==2.11.*) (0.40.0)\n",
            "Requirement already satisfied: tensorboard-data-server<0.7.0,>=0.6.0 in /usr/local/lib/python3.9/dist-packages (from tensorboard<2.12,>=2.11->tensorflow<2.12,>=2.11.0->tensorflow-text==2.11.*) (0.6.1)\n",
            "Requirement already satisfied: werkzeug>=1.0.1 in /usr/local/lib/python3.9/dist-packages (from tensorboard<2.12,>=2.11->tensorflow<2.12,>=2.11.0->tensorflow-text==2.11.*) (2.2.3)\n",
            "Requirement already satisfied: google-auth<3,>=1.6.3 in /usr/local/lib/python3.9/dist-packages (from tensorboard<2.12,>=2.11->tensorflow<2.12,>=2.11.0->tensorflow-text==2.11.*) (2.16.2)\n",
            "Requirement already satisfied: google-auth-oauthlib<0.5,>=0.4.1 in /usr/local/lib/python3.9/dist-packages (from tensorboard<2.12,>=2.11->tensorflow<2.12,>=2.11.0->tensorflow-text==2.11.*) (0.4.6)\n",
            "Requirement already satisfied: markdown>=2.6.8 in /usr/local/lib/python3.9/dist-packages (from tensorboard<2.12,>=2.11->tensorflow<2.12,>=2.11.0->tensorflow-text==2.11.*) (3.4.2)\n",
            "Requirement already satisfied: tensorboard-plugin-wit>=1.6.0 in /usr/local/lib/python3.9/dist-packages (from tensorboard<2.12,>=2.11->tensorflow<2.12,>=2.11.0->tensorflow-text==2.11.*) (1.8.1)\n",
            "Requirement already satisfied: requests<3,>=2.21.0 in /usr/local/lib/python3.9/dist-packages (from tensorboard<2.12,>=2.11->tensorflow<2.12,>=2.11.0->tensorflow-text==2.11.*) (2.27.1)\n",
            "Requirement already satisfied: cachetools<6.0,>=2.0.0 in /usr/local/lib/python3.9/dist-packages (from google-auth<3,>=1.6.3->tensorboard<2.12,>=2.11->tensorflow<2.12,>=2.11.0->tensorflow-text==2.11.*) (5.3.0)\n",
            "Requirement already satisfied: pyasn1-modules>=0.2.1 in /usr/local/lib/python3.9/dist-packages (from google-auth<3,>=1.6.3->tensorboard<2.12,>=2.11->tensorflow<2.12,>=2.11.0->tensorflow-text==2.11.*) (0.2.8)\n",
            "Requirement already satisfied: rsa<5,>=3.1.4 in /usr/local/lib/python3.9/dist-packages (from google-auth<3,>=1.6.3->tensorboard<2.12,>=2.11->tensorflow<2.12,>=2.11.0->tensorflow-text==2.11.*) (4.9)\n",
            "Requirement already satisfied: requests-oauthlib>=0.7.0 in /usr/local/lib/python3.9/dist-packages (from google-auth-oauthlib<0.5,>=0.4.1->tensorboard<2.12,>=2.11->tensorflow<2.12,>=2.11.0->tensorflow-text==2.11.*) (1.3.1)\n",
            "Requirement already satisfied: importlib-metadata>=4.4 in /usr/local/lib/python3.9/dist-packages (from markdown>=2.6.8->tensorboard<2.12,>=2.11->tensorflow<2.12,>=2.11.0->tensorflow-text==2.11.*) (6.1.0)\n",
            "Requirement already satisfied: urllib3<1.27,>=1.21.1 in /usr/local/lib/python3.9/dist-packages (from requests<3,>=2.21.0->tensorboard<2.12,>=2.11->tensorflow<2.12,>=2.11.0->tensorflow-text==2.11.*) (1.26.15)\n",
            "Requirement already satisfied: certifi>=2017.4.17 in /usr/local/lib/python3.9/dist-packages (from requests<3,>=2.21.0->tensorboard<2.12,>=2.11->tensorflow<2.12,>=2.11.0->tensorflow-text==2.11.*) (2022.12.7)\n",
            "Requirement already satisfied: charset-normalizer~=2.0.0 in /usr/local/lib/python3.9/dist-packages (from requests<3,>=2.21.0->tensorboard<2.12,>=2.11->tensorflow<2.12,>=2.11.0->tensorflow-text==2.11.*) (2.0.12)\n",
            "Requirement already satisfied: idna<4,>=2.5 in /usr/local/lib/python3.9/dist-packages (from requests<3,>=2.21.0->tensorboard<2.12,>=2.11->tensorflow<2.12,>=2.11.0->tensorflow-text==2.11.*) (3.4)\n",
            "Requirement already satisfied: MarkupSafe>=2.1.1 in /usr/local/lib/python3.9/dist-packages (from werkzeug>=1.0.1->tensorboard<2.12,>=2.11->tensorflow<2.12,>=2.11.0->tensorflow-text==2.11.*) (2.1.2)\n",
            "Requirement already satisfied: zipp>=0.5 in /usr/local/lib/python3.9/dist-packages (from importlib-metadata>=4.4->markdown>=2.6.8->tensorboard<2.12,>=2.11->tensorflow<2.12,>=2.11.0->tensorflow-text==2.11.*) (3.15.0)\n",
            "Requirement already satisfied: pyasn1<0.5.0,>=0.4.6 in /usr/local/lib/python3.9/dist-packages (from pyasn1-modules>=0.2.1->google-auth<3,>=1.6.3->tensorboard<2.12,>=2.11->tensorflow<2.12,>=2.11.0->tensorflow-text==2.11.*) (0.4.8)\n",
            "Requirement already satisfied: oauthlib>=3.0.0 in /usr/local/lib/python3.9/dist-packages (from requests-oauthlib>=0.7.0->google-auth-oauthlib<0.5,>=0.4.1->tensorboard<2.12,>=2.11->tensorflow<2.12,>=2.11.0->tensorflow-text==2.11.*) (3.2.2)\n",
            "Installing collected packages: tensorflow-text\n",
            "Successfully installed tensorflow-text-2.11.0\n"
          ]
        }
      ]
    },
    {
      "cell_type": "code",
      "source": [
        "!pip install sentencepiece"
      ],
      "metadata": {
        "colab": {
          "base_uri": "https://localhost:8080/"
        },
        "id": "B7mQkiyVi1ni",
        "outputId": "a808619b-71d9-484d-a344-d41e303edc22"
      },
      "execution_count": 10,
      "outputs": [
        {
          "output_type": "stream",
          "name": "stdout",
          "text": [
            "Looking in indexes: https://pypi.org/simple, https://us-python.pkg.dev/colab-wheels/public/simple/\n",
            "Collecting sentencepiece\n",
            "  Downloading sentencepiece-0.1.97-cp39-cp39-manylinux_2_17_x86_64.manylinux2014_x86_64.whl (1.3 MB)\n",
            "\u001b[2K     \u001b[90m━━━━━━━━━━━━━━━━━━━━━━━━━━━━━━━━━━━━━━━━\u001b[0m \u001b[32m1.3/1.3 MB\u001b[0m \u001b[31m16.6 MB/s\u001b[0m eta \u001b[36m0:00:00\u001b[0m\n",
            "\u001b[?25hInstalling collected packages: sentencepiece\n",
            "Successfully installed sentencepiece-0.1.97\n"
          ]
        }
      ]
    },
    {
      "cell_type": "code",
      "source": [
        "# Define hyperparameters\n",
        "vocab_size = 100\n",
        "m = 32\n",
        "key_dim = 128\n",
        "batch_size = 1024"
      ],
      "metadata": {
        "id": "4MWtl23ppS8u"
      },
      "execution_count": 92,
      "outputs": []
    },
    {
      "cell_type": "code",
      "source": [
        "import sentencepiece as sp\n",
        "import tensorflow_text as tf_text\n",
        "\n",
        "sp.SentencePieceTrainer.train(input = 'bible.txt', model_prefix = 'sp_tokenizer_model', vocab_size = vocab_size)\n",
        "\n",
        "# deserialize the trained model file to load it in the correct format\n",
        "trained_tokenizer_model = tf.io.gfile.GFile('sp_tokenizer_model.model', \"rb\").read()\n",
        "\n",
        "# load the model as a tokenizer that can be used inside a tensorflow model\n",
        "tokenizer = tf_text.SentencepieceTokenizer(\n",
        "    model=trained_tokenizer_model, out_type=tf.int32, nbest_size=-1, alpha=1, reverse=False,\n",
        "    add_bos=False, add_eos=False, return_nbest=False, name=None\n",
        ")\n",
        "\n",
        "tokenized = tokenizer.tokenize(corpus)"
      ],
      "metadata": {
        "id": "FvzzaMindObV"
      },
      "execution_count": 93,
      "outputs": []
    },
    {
      "cell_type": "code",
      "source": [
        "# Create sliding windows of tokenized text with sequence length m+1\n",
        "windowed_text = tf_text.sliding_window(tokenized, m+1)"
      ],
      "metadata": {
        "id": "StsvNSpnjG-l"
      },
      "execution_count": 94,
      "outputs": []
    },
    {
      "cell_type": "code",
      "source": [
        "train_ds = tf.data.Dataset.from_tensor_slices((windowed_text, windowed_text))\n",
        "# Shift to the right\n",
        "train_ds = train_ds.map(lambda x, y: (x[:-1], y[1:]))\n",
        "train_ds = train_ds.shuffle(vocab_size).batch(batch_size, drop_remainder=True).prefetch(tf.data.AUTOTUNE)"
      ],
      "metadata": {
        "id": "mJEocN16jZyA"
      },
      "execution_count": 95,
      "outputs": []
    },
    {
      "cell_type": "code",
      "source": [
        "print(train_ds)"
      ],
      "metadata": {
        "colab": {
          "base_uri": "https://localhost:8080/"
        },
        "id": "UZhCPbiDkbYX",
        "outputId": "7185da47-f462-47a1-d849-d9be7e35236b"
      },
      "execution_count": 96,
      "outputs": [
        {
          "output_type": "stream",
          "name": "stdout",
          "text": [
            "<PrefetchDataset element_spec=(TensorSpec(shape=(1024, 32), dtype=tf.int32, name=None), TensorSpec(shape=(1024, 32), dtype=tf.int32, name=None))>\n"
          ]
        }
      ]
    },
    {
      "cell_type": "markdown",
      "source": [
        "# Transformer Model\n",
        "\n",
        "Let's define our model here. First, the embedding layer\n",
        "## Embedding Layer"
      ],
      "metadata": {
        "id": "nolUhUmclPDX"
      }
    },
    {
      "cell_type": "code",
      "source": [
        "class EmbeddingLayer(tf.keras.layers.Layer):\n",
        "\n",
        "    def __init__(self, vocab_size, embedding_size, sequence_length):\n",
        "        super().__init__()\n",
        "        self.index_embedding_layer = tf.keras.layers.Embedding(vocab_size, embedding_size, input_length=1)\n",
        "        self.positional_embedding_layer = tf.keras.layers.Embedding(sequence_length, embedding_size, input_length=1)\n",
        "\n",
        "    def call(self, inputs, training=None, mask=None):\n",
        "        word_index_embeddings = self.index_embedding_layer(inputs)\n",
        "        sequence_length = tf.shape(inputs)[1]\n",
        "        positional_indices = tf.range(sequence_length)\n",
        "        positional_embeddings = self.positional_embedding_layer(positional_indices)\n",
        "        return word_index_embeddings + positional_embeddings"
      ],
      "metadata": {
        "id": "9yEFGFZclW7U"
      },
      "execution_count": 97,
      "outputs": []
    },
    {
      "cell_type": "markdown",
      "source": [
        "## Transformer Block"
      ],
      "metadata": {
        "id": "5uyPsoNildmB"
      }
    },
    {
      "cell_type": "code",
      "source": [
        "class TransformerBlock(tf.keras.layers.Layer):\n",
        "    def __init__(self, embedding_size):\n",
        "        super().__init__()\n",
        "\n",
        "        self.mha = tf.keras.layers.MultiHeadAttention(num_heads=4, key_dim=key_dim)\n",
        "        self.dense1 = tf.keras.layers.Dense(units=embedding_size, activation='relu')\n",
        "        self.dropout1 = tf.keras.layers.Dropout(0.1)\n",
        "        self.layer_norm1 = tf.keras.layers.LayerNormalization(epsilon=1e-6)\n",
        "        self.dense2 = tf.keras.layers.Dense(units=embedding_size)\n",
        "        self.dropout2 = tf.keras.layers.Dropout(0.1)\n",
        "        self.layer_norm2 = tf.keras.layers.LayerNormalization(epsilon=1e-6)\n",
        "\n",
        "    def call(self, inputs, training=None, mask=None):\n",
        "        y = self.mha(query=inputs, value=inputs, use_causal_mask=True)\n",
        "        y = self.dropout1(y, training=training)\n",
        "        y = inputs + y\n",
        "        ln_out = self.layer_norm1(y, training=training)\n",
        "        y = self.dense1(y)\n",
        "        y = self.dense2(y)\n",
        "        y = self.dropout2(y, training=training)\n",
        "        y = ln_out + y\n",
        "        y = self.layer_norm2(y, training=training)\n",
        "        return y"
      ],
      "metadata": {
        "id": "jtuAmZxklfyr"
      },
      "execution_count": 98,
      "outputs": []
    },
    {
      "cell_type": "markdown",
      "source": [
        "## Transformer Model"
      ],
      "metadata": {
        "id": "J6lPq3pClg-2"
      }
    },
    {
      "cell_type": "code",
      "source": [
        "class TransformerModel(tf.keras.Model):\n",
        "\n",
        "    def __init__(self, vocab_size, embedding_size, sequence_length, tokenizer):\n",
        "        super().__init__()\n",
        "        self.tokenizer = tokenizer\n",
        "        self.vocab_size = vocab_size\n",
        "        self.embedding_size = embedding_size\n",
        "        self.sequence_length = sequence_length\n",
        "\n",
        "        self.optimizer = tf.keras.optimizers.Adam(0.001)\n",
        "        self.loss_function = tf.keras.losses.SparseCategoricalCrossentropy(from_logits=True)\n",
        "        self.metrics_list = [tf.keras.metrics.Mean(name=\"loss\")]\n",
        "\n",
        "        self.embedding_layer = EmbeddingLayer(vocab_size, embedding_size, sequence_length)\n",
        "        self.transformer_block = TransformerBlock(embedding_size)\n",
        "        self.output_layer = tf.keras.layers.Dense(vocab_size)\n",
        "\n",
        "    def call(self, inputs, training=None, mask=None):\n",
        "        y = self.embedding_layer(inputs)\n",
        "        y = self.transformer_block(y, training=training)\n",
        "        y = self.output_layer(y)\n",
        "\n",
        "        return y\n",
        "\n",
        "    @tf.function\n",
        "    def train_step(self, data):\n",
        "\n",
        "        x, targets = data\n",
        "\n",
        "        with tf.GradientTape() as tape:\n",
        "            predictions = self(x, training=True)\n",
        "\n",
        "            loss = self.loss_function(targets, predictions) + tf.reduce_sum(self.losses)\n",
        "\n",
        "        gradients = tape.gradient(loss, self.trainable_variables)\n",
        "        self.optimizer.apply_gradients(zip(gradients, self.trainable_variables))\n",
        "\n",
        "        # update loss metric\n",
        "        self.metrics[0].update_state(loss)\n",
        "\n",
        "        # for all metrics except loss, update states (accuracy etc.)\n",
        "        for metric in self.metrics[1:]:\n",
        "            metric.update_state(targets, predictions)\n",
        "\n",
        "        # Return a dictionary mapping metric names to current value\n",
        "        return {m.name: m.result() for m in self.metrics}\n",
        "\n",
        "    def generate_text(self, prompt, output_length, top_k):\n",
        "        prompt = self.tokenizer.tokenize(prompt)\n",
        "\n",
        "        while len(prompt) <= output_length:\n",
        "            tokens = tf.expand_dims(prompt, axis = 0)\n",
        "            tokens = tf.pad(tokens, \n",
        "                            tf.constant([[0, 0, ], [self.sequence_length - len(prompt), 0]]))\n",
        "            \n",
        "            logit = self.call(tokens)\n",
        "\n",
        "            logits, indices = tf.math.top_k(logit, k=top_k, sorted=True)\n",
        "            indices = tf.squeeze(indices)\n",
        "            logits = tf.squeeze(logits)\n",
        "            \n",
        "            next_sample = tf.random.categorical(logits, 1)\n",
        "            next_sample = tf.squeeze(next_sample)[-1].numpy()\n",
        "\n",
        "            new_token = indices[-1, next_sample]\n",
        "            new_token = tf.expand_dims(new_token, axis = -1)\n",
        "            prompt = tf.concat([prompt, new_token], axis = -1)\n",
        "\n",
        "        out = self.tokenizer.detokenize(prompt)\n",
        "        print(out)\n",
        "        \n",
        "        return out\n",
        "\n",
        "    def reset_metrics(self):\n",
        "        for metric in self.metrics:\n",
        "            metric.reset_states()"
      ],
      "metadata": {
        "id": "djd9WxRMll6z"
      },
      "execution_count": 99,
      "outputs": []
    },
    {
      "cell_type": "markdown",
      "source": [
        "Prepare summary writers before training"
      ],
      "metadata": {
        "id": "_cOUk_QFnCcW"
      }
    },
    {
      "cell_type": "code",
      "source": [
        "current_time = datetime.datetime.now().strftime(\"%Y%m%d-%H%M%S\")\n",
        "\n",
        "config_name = f'RUN'\n",
        "train_log_path = f\"logs/{config_name}/{current_time}/train\"\n",
        "\n",
        "train_summary_writer = tf.summary.create_file_writer(train_log_path)"
      ],
      "metadata": {
        "id": "jaYqp6CZmcRo"
      },
      "execution_count": 100,
      "outputs": []
    },
    {
      "cell_type": "code",
      "source": [
        "embedding_size = 64\n",
        "model = TransformerModel(vocab_size, embedding_size, m, tokenizer)"
      ],
      "metadata": {
        "id": "_s_cA9ZMnAu9"
      },
      "execution_count": 101,
      "outputs": []
    },
    {
      "cell_type": "code",
      "source": [
        "def training_loop(num_epochs):\n",
        "  for epoch in range(num_epochs): \n",
        "      print(f'Epoch {epoch}: ')\n",
        "\n",
        "      for inputs in tqdm(train_ds):\n",
        "          metrics = model.train_step(inputs)\n",
        "    \n",
        "      gen_text = model.generate_text(\"Let there be\", output_length = 24, top_k = 100)\n",
        "\n",
        "      with train_summary_writer.as_default(): \n",
        "          for metric in model.metrics_list:\n",
        "              tf.summary.scalar(f\"{metric.name}\", metric.result(), step=epoch)\n",
        "              tf.summary.text(name = \"generated text\", data = gen_text, step = epoch)\n",
        "\n",
        "      print([f\"train_{key}: {value.numpy()}\" for (key, value) in metrics.items()])\n",
        "      model.reset_metrics()\n",
        "      print(\"\\n\")\n",
        "\n",
        "num_epochs = 100\n",
        "training_loop(num_epochs)"
      ],
      "metadata": {
        "colab": {
          "base_uri": "https://localhost:8080/"
        },
        "id": "IEi2o2gjnYHH",
        "outputId": "cf811985-5ab6-423f-f1ba-0e29684fa83b"
      },
      "execution_count": 102,
      "outputs": [
        {
          "output_type": "stream",
          "name": "stdout",
          "text": [
            "Epoch 0: \n"
          ]
        },
        {
          "output_type": "stream",
          "name": "stderr",
          "text": [
            "100%|██████████| 3031/3031 [02:01<00:00, 24.90it/s]\n"
          ]
        },
        {
          "output_type": "stream",
          "name": "stdout",
          "text": [
            "tf.Tensor(b'Let there begint seeiven thou hann', shape=(), dtype=string)\n",
            "['train_loss: 2.476088047027588']\n",
            "\n",
            "\n",
            "Epoch 1: \n"
          ]
        },
        {
          "output_type": "stream",
          "name": "stderr",
          "text": [
            "100%|██████████| 3031/3031 [01:59<00:00, 25.36it/s]\n"
          ]
        },
        {
          "output_type": "stream",
          "name": "stdout",
          "text": [
            "tf.Tensor(b'Let there behints foret, vel any ho', shape=(), dtype=string)\n",
            "['train_loss: 2.19230318069458']\n",
            "\n",
            "\n",
            "Epoch 2: \n"
          ]
        },
        {
          "output_type": "stream",
          "name": "stderr",
          "text": [
            "100%|██████████| 3031/3031 [02:00<00:00, 25.18it/s]\n"
          ]
        },
        {
          "output_type": "stream",
          "name": "stdout",
          "text": [
            "tf.Tensor(b'Let there beast the speas of the endwitle', shape=(), dtype=string)\n",
            "['train_loss: 2.11842942237854']\n",
            "\n",
            "\n",
            "Epoch 3: \n"
          ]
        },
        {
          "output_type": "stream",
          "name": "stderr",
          "text": [
            "100%|██████████| 3031/3031 [02:01<00:00, 25.02it/s]\n"
          ]
        },
        {
          "output_type": "stream",
          "name": "stdout",
          "text": [
            "tf.Tensor(b'Let there besen were garedind dstone', shape=(), dtype=string)\n",
            "['train_loss: 2.0766706466674805']\n",
            "\n",
            "\n",
            "Epoch 4: \n"
          ]
        },
        {
          "output_type": "stream",
          "name": "stderr",
          "text": [
            "100%|██████████| 3031/3031 [02:01<00:00, 25.03it/s]\n"
          ]
        },
        {
          "output_type": "stream",
          "name": "stdout",
          "text": [
            "tf.Tensor(b'Let there beast, and conse alsoevat i', shape=(), dtype=string)\n",
            "['train_loss: 2.0483455657958984']\n",
            "\n",
            "\n",
            "Epoch 5: \n"
          ]
        },
        {
          "output_type": "stream",
          "name": "stderr",
          "text": [
            "100%|██████████| 3031/3031 [02:00<00:00, 25.06it/s]\n"
          ]
        },
        {
          "output_type": "stream",
          "name": "stdout",
          "text": [
            "tf.Tensor(b'Let there bean of hour harker and make ', shape=(), dtype=string)\n",
            "['train_loss: 2.0281827449798584']\n",
            "\n",
            "\n",
            "Epoch 6: \n"
          ]
        },
        {
          "output_type": "stream",
          "name": "stderr",
          "text": [
            "100%|██████████| 3031/3031 [02:01<00:00, 24.94it/s]\n"
          ]
        },
        {
          "output_type": "stream",
          "name": "stdout",
          "text": [
            "tf.Tensor(b'Let there beast. 23:13 Jesus ma', shape=(), dtype=string)\n",
            "['train_loss: 2.013028860092163']\n",
            "\n",
            "\n",
            "Epoch 7: \n"
          ]
        },
        {
          "output_type": "stream",
          "name": "stderr",
          "text": [
            "100%|██████████| 3031/3031 [02:01<00:00, 24.90it/s]\n"
          ]
        },
        {
          "output_type": "stream",
          "name": "stdout",
          "text": [
            "tf.Tensor(b'Let there beas, 7:11 And I wll hou', shape=(), dtype=string)\n",
            "['train_loss: 2.0011165142059326']\n",
            "\n",
            "\n",
            "Epoch 8: \n"
          ]
        },
        {
          "output_type": "stream",
          "name": "stderr",
          "text": [
            "100%|██████████| 3031/3031 [02:02<00:00, 24.67it/s]\n"
          ]
        },
        {
          "output_type": "stream",
          "name": "stdout",
          "text": [
            "tf.Tensor(b'Let there beasenged alke wive the dd', shape=(), dtype=string)\n",
            "['train_loss: 1.9917685985565186']\n",
            "\n",
            "\n",
            "Epoch 9: \n"
          ]
        },
        {
          "output_type": "stream",
          "name": "stderr",
          "text": [
            "100%|██████████| 3031/3031 [02:02<00:00, 24.67it/s]\n"
          ]
        },
        {
          "output_type": "stream",
          "name": "stdout",
          "text": [
            "tf.Tensor(b'Let there because of sin are in the ju', shape=(), dtype=string)\n",
            "['train_loss: 1.984244465827942']\n",
            "\n",
            "\n",
            "Epoch 10: \n"
          ]
        },
        {
          "output_type": "stream",
          "name": "stderr",
          "text": [
            "100%|██████████| 3031/3031 [02:02<00:00, 24.67it/s]\n"
          ]
        },
        {
          "output_type": "stream",
          "name": "stdout",
          "text": [
            "tf.Tensor(b'Let there because not Cily: 12', shape=(), dtype=string)\n",
            "['train_loss: 1.9775320291519165']\n",
            "\n",
            "\n",
            "Epoch 11: \n"
          ]
        },
        {
          "output_type": "stream",
          "name": "stderr",
          "text": [
            "100%|██████████| 3031/3031 [02:02<00:00, 24.66it/s]\n"
          ]
        },
        {
          "output_type": "stream",
          "name": "stdout",
          "text": [
            "tf.Tensor(b'Let there be timurse of out of God', shape=(), dtype=string)\n",
            "['train_loss: 1.9715549945831299']\n",
            "\n",
            "\n",
            "Epoch 12: \n"
          ]
        },
        {
          "output_type": "stream",
          "name": "stderr",
          "text": [
            "100%|██████████| 3031/3031 [02:02<00:00, 24.65it/s]\n"
          ]
        },
        {
          "output_type": "stream",
          "name": "stdout",
          "text": [
            "tf.Tensor(b'Let there beasts, even with no sh', shape=(), dtype=string)\n",
            "['train_loss: 1.9664576053619385']\n",
            "\n",
            "\n",
            "Epoch 13: \n"
          ]
        },
        {
          "output_type": "stream",
          "name": "stderr",
          "text": [
            "100%|██████████| 3031/3031 [02:02<00:00, 24.67it/s]\n"
          ]
        },
        {
          "output_type": "stream",
          "name": "stdout",
          "text": [
            "tf.Tensor(b'Let there beast are clother ye, He that', shape=(), dtype=string)\n",
            "['train_loss: 1.961670994758606']\n",
            "\n",
            "\n",
            "Epoch 14: \n"
          ]
        },
        {
          "output_type": "stream",
          "name": "stderr",
          "text": [
            "100%|██████████| 3031/3031 [02:02<00:00, 24.67it/s]\n"
          ]
        },
        {
          "output_type": "stream",
          "name": "stdout",
          "text": [
            "tf.Tensor(b'Let there before well of? And the dead ', shape=(), dtype=string)\n",
            "['train_loss: 1.9574425220489502']\n",
            "\n",
            "\n",
            "Epoch 15: \n"
          ]
        },
        {
          "output_type": "stream",
          "name": "stderr",
          "text": [
            "100%|██████████| 3031/3031 [02:02<00:00, 24.69it/s]\n"
          ]
        },
        {
          "output_type": "stream",
          "name": "stdout",
          "text": [
            "tf.Tensor(b'Let there before the gleat agart tore, ', shape=(), dtype=string)\n",
            "['train_loss: 1.9536454677581787']\n",
            "\n",
            "\n",
            "Epoch 16: \n"
          ]
        },
        {
          "output_type": "stream",
          "name": "stderr",
          "text": [
            "100%|██████████| 3031/3031 [02:02<00:00, 24.65it/s]\n"
          ]
        },
        {
          "output_type": "stream",
          "name": "stdout",
          "text": [
            "tf.Tensor(b'Let there became upon the firest no ', shape=(), dtype=string)\n",
            "['train_loss: 1.95003080368042']\n",
            "\n",
            "\n",
            "Epoch 17: \n"
          ]
        },
        {
          "output_type": "stream",
          "name": "stderr",
          "text": [
            "100%|██████████| 3031/3031 [02:03<00:00, 24.63it/s]\n"
          ]
        },
        {
          "output_type": "stream",
          "name": "stdout",
          "text": [
            "tf.Tensor(b'Let there be hundred God, howled', shape=(), dtype=string)\n",
            "['train_loss: 1.9468169212341309']\n",
            "\n",
            "\n",
            "Epoch 18: \n"
          ]
        },
        {
          "output_type": "stream",
          "name": "stderr",
          "text": [
            "100%|██████████| 3031/3031 [02:02<00:00, 24.67it/s]\n"
          ]
        },
        {
          "output_type": "stream",
          "name": "stdout",
          "text": [
            "tf.Tensor(b'Let there being of them that was also the farth of', shape=(), dtype=string)\n",
            "['train_loss: 1.9438167810440063']\n",
            "\n",
            "\n",
            "Epoch 19: \n"
          ]
        },
        {
          "output_type": "stream",
          "name": "stderr",
          "text": [
            "100%|██████████| 3031/3031 [02:02<00:00, 24.68it/s]\n"
          ]
        },
        {
          "output_type": "stream",
          "name": "stdout",
          "text": [
            "tf.Tensor(b'Let there be stave of the fore his qu', shape=(), dtype=string)\n",
            "['train_loss: 1.9411399364471436']\n",
            "\n",
            "\n",
            "Epoch 20: \n"
          ]
        },
        {
          "output_type": "stream",
          "name": "stderr",
          "text": [
            "100%|██████████| 3031/3031 [02:02<00:00, 24.67it/s]\n"
          ]
        },
        {
          "output_type": "stream",
          "name": "stdout",
          "text": [
            "tf.Tensor(b'Let there be trimit death, and all ', shape=(), dtype=string)\n",
            "['train_loss: 1.9387704133987427']\n",
            "\n",
            "\n",
            "Epoch 21: \n"
          ]
        },
        {
          "output_type": "stream",
          "name": "stderr",
          "text": [
            "100%|██████████| 3031/3031 [02:02<00:00, 24.68it/s]\n"
          ]
        },
        {
          "output_type": "stream",
          "name": "stdout",
          "text": [
            "tf.Tensor(b'Let there be churtulle intike his', shape=(), dtype=string)\n",
            "['train_loss: 1.9365756511688232']\n",
            "\n",
            "\n",
            "Epoch 22: \n"
          ]
        },
        {
          "output_type": "stream",
          "name": "stderr",
          "text": [
            "100%|██████████| 3031/3031 [02:02<00:00, 24.66it/s]\n"
          ]
        },
        {
          "output_type": "stream",
          "name": "stdout",
          "text": [
            "tf.Tensor(b'Let there before the Lord. 12:15 And he ', shape=(), dtype=string)\n",
            "['train_loss: 1.9347350597381592']\n",
            "\n",
            "\n",
            "Epoch 23: \n"
          ]
        },
        {
          "output_type": "stream",
          "name": "stderr",
          "text": [
            "100%|██████████| 3031/3031 [02:02<00:00, 24.67it/s]\n"
          ]
        },
        {
          "output_type": "stream",
          "name": "stdout",
          "text": [
            "tf.Tensor(b'Let there beast sin his pleasoured ', shape=(), dtype=string)\n",
            "['train_loss: 1.9328111410140991']\n",
            "\n",
            "\n",
            "Epoch 24: \n"
          ]
        },
        {
          "output_type": "stream",
          "name": "stderr",
          "text": [
            "100%|██████████| 3031/3031 [02:02<00:00, 24.66it/s]\n"
          ]
        },
        {
          "output_type": "stream",
          "name": "stdout",
          "text": [
            "tf.Tensor(b'Let there be deads. 23:19 And he and l', shape=(), dtype=string)\n",
            "['train_loss: 1.9313141107559204']\n",
            "\n",
            "\n",
            "Epoch 25: \n"
          ]
        },
        {
          "output_type": "stream",
          "name": "stderr",
          "text": [
            "100%|██████████| 3031/3031 [02:02<00:00, 24.67it/s]\n"
          ]
        },
        {
          "output_type": "stream",
          "name": "stdout",
          "text": [
            "tf.Tensor(b'Let there be was sea and love bi', shape=(), dtype=string)\n",
            "['train_loss: 1.9294687509536743']\n",
            "\n",
            "\n",
            "Epoch 26: \n"
          ]
        },
        {
          "output_type": "stream",
          "name": "stderr",
          "text": [
            "100%|██████████| 3031/3031 [02:02<00:00, 24.66it/s]\n"
          ]
        },
        {
          "output_type": "stream",
          "name": "stdout",
          "text": [
            "tf.Tensor(b'Let there before on sureset and the barr', shape=(), dtype=string)\n",
            "['train_loss: 1.9278360605239868']\n",
            "\n",
            "\n",
            "Epoch 27: \n"
          ]
        },
        {
          "output_type": "stream",
          "name": "stderr",
          "text": [
            "100%|██████████| 3031/3031 [02:02<00:00, 24.67it/s]\n"
          ]
        },
        {
          "output_type": "stream",
          "name": "stdout",
          "text": [
            "tf.Tensor(b'Let there be, is their winel done; be', shape=(), dtype=string)\n",
            "['train_loss: 1.9267083406448364']\n",
            "\n",
            "\n",
            "Epoch 28: \n"
          ]
        },
        {
          "output_type": "stream",
          "name": "stderr",
          "text": [
            "100%|██████████| 3031/3031 [02:02<00:00, 24.72it/s]\n"
          ]
        },
        {
          "output_type": "stream",
          "name": "stdout",
          "text": [
            "tf.Tensor(b'Let there be all vercording to them, beard', shape=(), dtype=string)\n",
            "['train_loss: 1.9253838062286377']\n",
            "\n",
            "\n",
            "Epoch 29: \n"
          ]
        },
        {
          "output_type": "stream",
          "name": "stderr",
          "text": [
            "100%|██████████| 3031/3031 [02:01<00:00, 24.89it/s]\n"
          ]
        },
        {
          "output_type": "stream",
          "name": "stdout",
          "text": [
            "tf.Tensor(b'Let there before Pworer do made ry', shape=(), dtype=string)\n",
            "['train_loss: 1.9242279529571533']\n",
            "\n",
            "\n",
            "Epoch 30: \n"
          ]
        },
        {
          "output_type": "stream",
          "name": "stderr",
          "text": [
            "100%|██████████| 3031/3031 [02:01<00:00, 24.93it/s]\n"
          ]
        },
        {
          "output_type": "stream",
          "name": "stdout",
          "text": [
            "tf.Tensor(b'Let there before are the hour God, bec', shape=(), dtype=string)\n",
            "['train_loss: 1.9230316877365112']\n",
            "\n",
            "\n",
            "Epoch 31: \n"
          ]
        },
        {
          "output_type": "stream",
          "name": "stderr",
          "text": [
            "100%|██████████| 3031/3031 [02:02<00:00, 24.67it/s]\n"
          ]
        },
        {
          "output_type": "stream",
          "name": "stdout",
          "text": [
            "tf.Tensor(b'Let there be pament. 14:19 And maye', shape=(), dtype=string)\n",
            "['train_loss: 1.9219790697097778']\n",
            "\n",
            "\n",
            "Epoch 32: \n"
          ]
        },
        {
          "output_type": "stream",
          "name": "stderr",
          "text": [
            "100%|██████████| 3031/3031 [02:02<00:00, 24.67it/s]\n"
          ]
        },
        {
          "output_type": "stream",
          "name": "stdout",
          "text": [
            "tf.Tensor(b'Let there be twith creats a boditted', shape=(), dtype=string)\n",
            "['train_loss: 1.9206640720367432']\n",
            "\n",
            "\n",
            "Epoch 33: \n"
          ]
        },
        {
          "output_type": "stream",
          "name": "stderr",
          "text": [
            "100%|██████████| 3031/3031 [02:02<00:00, 24.65it/s]\n"
          ]
        },
        {
          "output_type": "stream",
          "name": "stdout",
          "text": [
            "tf.Tensor(b'Let there belaidst: for thinge God, ', shape=(), dtype=string)\n",
            "['train_loss: 1.9198089838027954']\n",
            "\n",
            "\n",
            "Epoch 34: \n"
          ]
        },
        {
          "output_type": "stream",
          "name": "stderr",
          "text": [
            "100%|██████████| 3031/3031 [02:02<00:00, 24.67it/s]\n"
          ]
        },
        {
          "output_type": "stream",
          "name": "stdout",
          "text": [
            "tf.Tensor(b'Let there before As Moseeceiven', shape=(), dtype=string)\n",
            "['train_loss: 1.9189622402191162']\n",
            "\n",
            "\n",
            "Epoch 35: \n"
          ]
        },
        {
          "output_type": "stream",
          "name": "stderr",
          "text": [
            "100%|██████████| 3031/3031 [02:02<00:00, 24.67it/s]\n"
          ]
        },
        {
          "output_type": "stream",
          "name": "stdout",
          "text": [
            "tf.Tensor(b'Let there bear the tombgravew that ye wi', shape=(), dtype=string)\n",
            "['train_loss: 1.9181411266326904']\n",
            "\n",
            "\n",
            "Epoch 36: \n"
          ]
        },
        {
          "output_type": "stream",
          "name": "stderr",
          "text": [
            "100%|██████████| 3031/3031 [02:02<00:00, 24.66it/s]\n"
          ]
        },
        {
          "output_type": "stream",
          "name": "stdout",
          "text": [
            "tf.Tensor(b'Let there be saime, hath under a', shape=(), dtype=string)\n",
            "['train_loss: 1.9171714782714844']\n",
            "\n",
            "\n",
            "Epoch 37: \n"
          ]
        },
        {
          "output_type": "stream",
          "name": "stderr",
          "text": [
            "100%|██████████| 3031/3031 [02:02<00:00, 24.66it/s]\n"
          ]
        },
        {
          "output_type": "stream",
          "name": "stdout",
          "text": [
            "tf.Tensor(b'Let there be anks, and revy just of the for', shape=(), dtype=string)\n",
            "['train_loss: 1.9165406227111816']\n",
            "\n",
            "\n",
            "Epoch 38: \n"
          ]
        },
        {
          "output_type": "stream",
          "name": "stderr",
          "text": [
            "100%|██████████| 3031/3031 [02:02<00:00, 24.67it/s]\n"
          ]
        },
        {
          "output_type": "stream",
          "name": "stdout",
          "text": [
            "tf.Tensor(b'Let there beast of meltily saying, 4', shape=(), dtype=string)\n",
            "['train_loss: 1.915860652923584']\n",
            "\n",
            "\n",
            "Epoch 39: \n"
          ]
        },
        {
          "output_type": "stream",
          "name": "stderr",
          "text": [
            "100%|██████████| 3031/3031 [02:02<00:00, 24.67it/s]\n"
          ]
        },
        {
          "output_type": "stream",
          "name": "stdout",
          "text": [
            "tf.Tensor(b'Let there before them that is forgiver fl', shape=(), dtype=string)\n",
            "['train_loss: 1.9150558710098267']\n",
            "\n",
            "\n",
            "Epoch 40: \n"
          ]
        },
        {
          "output_type": "stream",
          "name": "stderr",
          "text": [
            "100%|██████████| 3031/3031 [02:02<00:00, 24.67it/s]\n"
          ]
        },
        {
          "output_type": "stream",
          "name": "stdout",
          "text": [
            "tf.Tensor(b'Let there be of als which with her re', shape=(), dtype=string)\n",
            "['train_loss: 1.9142042398452759']\n",
            "\n",
            "\n",
            "Epoch 41: \n"
          ]
        },
        {
          "output_type": "stream",
          "name": "stderr",
          "text": [
            "100%|██████████| 3031/3031 [02:02<00:00, 24.67it/s]\n"
          ]
        },
        {
          "output_type": "stream",
          "name": "stdout",
          "text": [
            "tf.Tensor(b'Let there be cast. 14:8 And On that when', shape=(), dtype=string)\n",
            "['train_loss: 1.9139482975006104']\n",
            "\n",
            "\n",
            "Epoch 42: \n"
          ]
        },
        {
          "output_type": "stream",
          "name": "stderr",
          "text": [
            "100%|██████████| 3031/3031 [02:02<00:00, 24.68it/s]\n"
          ]
        },
        {
          "output_type": "stream",
          "name": "stdout",
          "text": [
            "tf.Tensor(b'Let there be sawe, and write thy tho', shape=(), dtype=string)\n",
            "['train_loss: 1.913305640220642']\n",
            "\n",
            "\n",
            "Epoch 43: \n"
          ]
        },
        {
          "output_type": "stream",
          "name": "stderr",
          "text": [
            "100%|██████████| 3031/3031 [02:02<00:00, 24.68it/s]\n"
          ]
        },
        {
          "output_type": "stream",
          "name": "stdout",
          "text": [
            "tf.Tensor(b'Let there be minister that they rist gernes', shape=(), dtype=string)\n",
            "['train_loss: 1.9124925136566162']\n",
            "\n",
            "\n",
            "Epoch 44: \n"
          ]
        },
        {
          "output_type": "stream",
          "name": "stderr",
          "text": [
            "100%|██████████| 3031/3031 [02:02<00:00, 24.67it/s]\n"
          ]
        },
        {
          "output_type": "stream",
          "name": "stdout",
          "text": [
            "tf.Tensor(b'Let there becaurches for the earth nam', shape=(), dtype=string)\n",
            "['train_loss: 1.9119316339492798']\n",
            "\n",
            "\n",
            "Epoch 45: \n"
          ]
        },
        {
          "output_type": "stream",
          "name": "stderr",
          "text": [
            "100%|██████████| 3031/3031 [02:02<00:00, 24.67it/s]\n"
          ]
        },
        {
          "output_type": "stream",
          "name": "stdout",
          "text": [
            "tf.Tensor(b'Let there besing of the ning that weres; and the w', shape=(), dtype=string)\n",
            "['train_loss: 1.9114176034927368']\n",
            "\n",
            "\n",
            "Epoch 46: \n"
          ]
        },
        {
          "output_type": "stream",
          "name": "stderr",
          "text": [
            "100%|██████████| 3031/3031 [02:02<00:00, 24.67it/s]\n"
          ]
        },
        {
          "output_type": "stream",
          "name": "stdout",
          "text": [
            "tf.Tensor(b'Let there be from the wife aboure. ', shape=(), dtype=string)\n",
            "['train_loss: 1.9109296798706055']\n",
            "\n",
            "\n",
            "Epoch 47: \n"
          ]
        },
        {
          "output_type": "stream",
          "name": "stderr",
          "text": [
            "100%|██████████| 3031/3031 [02:02<00:00, 24.67it/s]\n"
          ]
        },
        {
          "output_type": "stream",
          "name": "stdout",
          "text": [
            "tf.Tensor(b'Let there be no: and who were forgeth', shape=(), dtype=string)\n",
            "['train_loss: 1.9102728366851807']\n",
            "\n",
            "\n",
            "Epoch 48: \n"
          ]
        },
        {
          "output_type": "stream",
          "name": "stderr",
          "text": [
            "100%|██████████| 3031/3031 [02:02<00:00, 24.67it/s]\n"
          ]
        },
        {
          "output_type": "stream",
          "name": "stdout",
          "text": [
            "tf.Tensor(b'Let there be people that ye shobut her', shape=(), dtype=string)\n",
            "['train_loss: 1.9100306034088135']\n",
            "\n",
            "\n",
            "Epoch 49: \n"
          ]
        },
        {
          "output_type": "stream",
          "name": "stderr",
          "text": [
            "100%|██████████| 3031/3031 [02:02<00:00, 24.67it/s]\n"
          ]
        },
        {
          "output_type": "stream",
          "name": "stdout",
          "text": [
            "tf.Tensor(b'Let there begat the laid panace of the b', shape=(), dtype=string)\n",
            "['train_loss: 1.909528136253357']\n",
            "\n",
            "\n",
            "Epoch 50: \n"
          ]
        },
        {
          "output_type": "stream",
          "name": "stderr",
          "text": [
            "100%|██████████| 3031/3031 [02:02<00:00, 24.67it/s]\n"
          ]
        },
        {
          "output_type": "stream",
          "name": "stdout",
          "text": [
            "tf.Tensor(b'Let there be mell nighteousned of', shape=(), dtype=string)\n",
            "['train_loss: 1.909209132194519']\n",
            "\n",
            "\n",
            "Epoch 51: \n"
          ]
        },
        {
          "output_type": "stream",
          "name": "stderr",
          "text": [
            "100%|██████████| 3031/3031 [02:02<00:00, 24.67it/s]\n"
          ]
        },
        {
          "output_type": "stream",
          "name": "stdout",
          "text": [
            "tf.Tensor(b'Let there be upon the chorchup were ', shape=(), dtype=string)\n",
            "['train_loss: 1.908534049987793']\n",
            "\n",
            "\n",
            "Epoch 52: \n"
          ]
        },
        {
          "output_type": "stream",
          "name": "stderr",
          "text": [
            "100%|██████████| 3031/3031 [02:02<00:00, 24.68it/s]\n"
          ]
        },
        {
          "output_type": "stream",
          "name": "stdout",
          "text": [
            "tf.Tensor(b'Let there bed the which he was the sing', shape=(), dtype=string)\n",
            "['train_loss: 1.908132553100586']\n",
            "\n",
            "\n",
            "Epoch 53: \n"
          ]
        },
        {
          "output_type": "stream",
          "name": "stderr",
          "text": [
            "100%|██████████| 3031/3031 [02:02<00:00, 24.67it/s]\n"
          ]
        },
        {
          "output_type": "stream",
          "name": "stdout",
          "text": [
            "tf.Tensor(b'Let there because bittle of the proach', shape=(), dtype=string)\n",
            "['train_loss: 1.9078185558319092']\n",
            "\n",
            "\n",
            "Epoch 54: \n"
          ]
        },
        {
          "output_type": "stream",
          "name": "stderr",
          "text": [
            "100%|██████████| 3031/3031 [02:02<00:00, 24.68it/s]\n"
          ]
        },
        {
          "output_type": "stream",
          "name": "stdout",
          "text": [
            "tf.Tensor(b'Let there before lechis over, say', shape=(), dtype=string)\n",
            "['train_loss: 1.9073412418365479']\n",
            "\n",
            "\n",
            "Epoch 55: \n"
          ]
        },
        {
          "output_type": "stream",
          "name": "stderr",
          "text": [
            "100%|██████████| 3031/3031 [02:02<00:00, 24.67it/s]\n"
          ]
        },
        {
          "output_type": "stream",
          "name": "stdout",
          "text": [
            "tf.Tensor(b'Let there beginning, and they throne, and ea', shape=(), dtype=string)\n",
            "['train_loss: 1.9068266153335571']\n",
            "\n",
            "\n",
            "Epoch 56: \n"
          ]
        },
        {
          "output_type": "stream",
          "name": "stderr",
          "text": [
            "100%|██████████| 3031/3031 [02:02<00:00, 24.67it/s]\n"
          ]
        },
        {
          "output_type": "stream",
          "name": "stdout",
          "text": [
            "tf.Tensor(b'Let there be with with the grong the e', shape=(), dtype=string)\n",
            "['train_loss: 1.9062210321426392']\n",
            "\n",
            "\n",
            "Epoch 57: \n"
          ]
        },
        {
          "output_type": "stream",
          "name": "stderr",
          "text": [
            "100%|██████████| 3031/3031 [02:02<00:00, 24.66it/s]\n"
          ]
        },
        {
          "output_type": "stream",
          "name": "stdout",
          "text": [
            "tf.Tensor(b'Let there before trangers of the earth, m', shape=(), dtype=string)\n",
            "['train_loss: 1.9058647155761719']\n",
            "\n",
            "\n",
            "Epoch 58: \n"
          ]
        },
        {
          "output_type": "stream",
          "name": "stderr",
          "text": [
            "100%|██████████| 3031/3031 [02:02<00:00, 24.67it/s]\n"
          ]
        },
        {
          "output_type": "stream",
          "name": "stdout",
          "text": [
            "tf.Tensor(b'Let there before God and the wore and serv', shape=(), dtype=string)\n",
            "['train_loss: 1.9055695533752441']\n",
            "\n",
            "\n",
            "Epoch 59: \n"
          ]
        },
        {
          "output_type": "stream",
          "name": "stderr",
          "text": [
            "100%|██████████| 3031/3031 [02:02<00:00, 24.67it/s]\n"
          ]
        },
        {
          "output_type": "stream",
          "name": "stdout",
          "text": [
            "tf.Tensor(b'Let there before Fadie the first ju', shape=(), dtype=string)\n",
            "['train_loss: 1.9054021835327148']\n",
            "\n",
            "\n",
            "Epoch 60: \n"
          ]
        },
        {
          "output_type": "stream",
          "name": "stderr",
          "text": [
            "100%|██████████| 3031/3031 [02:02<00:00, 24.67it/s]\n"
          ]
        },
        {
          "output_type": "stream",
          "name": "stdout",
          "text": [
            "tf.Tensor(b'Let there be and witness word of the Jes', shape=(), dtype=string)\n",
            "['train_loss: 1.904636263847351']\n",
            "\n",
            "\n",
            "Epoch 61: \n"
          ]
        },
        {
          "output_type": "stream",
          "name": "stderr",
          "text": [
            "100%|██████████| 3031/3031 [02:02<00:00, 24.67it/s]\n"
          ]
        },
        {
          "output_type": "stream",
          "name": "stdout",
          "text": [
            "tf.Tensor(b'Let there beast throne. 10:1 Acha', shape=(), dtype=string)\n",
            "['train_loss: 1.904699444770813']\n",
            "\n",
            "\n",
            "Epoch 62: \n"
          ]
        },
        {
          "output_type": "stream",
          "name": "stderr",
          "text": [
            "100%|██████████| 3031/3031 [02:02<00:00, 24.67it/s]\n"
          ]
        },
        {
          "output_type": "stream",
          "name": "stdout",
          "text": [
            "tf.Tensor(b'Let there before agate it morn earth, ', shape=(), dtype=string)\n",
            "['train_loss: 1.9043347835540771']\n",
            "\n",
            "\n",
            "Epoch 63: \n"
          ]
        },
        {
          "output_type": "stream",
          "name": "stderr",
          "text": [
            "100%|██████████| 3031/3031 [02:02<00:00, 24.67it/s]\n"
          ]
        },
        {
          "output_type": "stream",
          "name": "stdout",
          "text": [
            "tf.Tensor(b'Let there be come; the brother. Aru', shape=(), dtype=string)\n",
            "['train_loss: 1.903880000114441']\n",
            "\n",
            "\n",
            "Epoch 64: \n"
          ]
        },
        {
          "output_type": "stream",
          "name": "stderr",
          "text": [
            "100%|██████████| 3031/3031 [02:02<00:00, 24.67it/s]\n"
          ]
        },
        {
          "output_type": "stream",
          "name": "stdout",
          "text": [
            "tf.Tensor(b'Let there before the dvened, and falled d', shape=(), dtype=string)\n",
            "['train_loss: 1.9035569429397583']\n",
            "\n",
            "\n",
            "Epoch 65: \n"
          ]
        },
        {
          "output_type": "stream",
          "name": "stderr",
          "text": [
            "100%|██████████| 3031/3031 [02:02<00:00, 24.66it/s]\n"
          ]
        },
        {
          "output_type": "stream",
          "name": "stdout",
          "text": [
            "tf.Tensor(b'Let there be: and these no again, and the sh', shape=(), dtype=string)\n",
            "['train_loss: 1.9033684730529785']\n",
            "\n",
            "\n",
            "Epoch 66: \n"
          ]
        },
        {
          "output_type": "stream",
          "name": "stderr",
          "text": [
            "100%|██████████| 3031/3031 [02:02<00:00, 24.67it/s]\n"
          ]
        },
        {
          "output_type": "stream",
          "name": "stdout",
          "text": [
            "tf.Tensor(b'Let there before with the leaves unto the F', shape=(), dtype=string)\n",
            "['train_loss: 1.902866005897522']\n",
            "\n",
            "\n",
            "Epoch 67: \n"
          ]
        },
        {
          "output_type": "stream",
          "name": "stderr",
          "text": [
            "100%|██████████| 3031/3031 [02:02<00:00, 24.68it/s]\n"
          ]
        },
        {
          "output_type": "stream",
          "name": "stdout",
          "text": [
            "tf.Tensor(b'Let there before thee of her their great the ', shape=(), dtype=string)\n",
            "['train_loss: 1.9026477336883545']\n",
            "\n",
            "\n",
            "Epoch 68: \n"
          ]
        },
        {
          "output_type": "stream",
          "name": "stderr",
          "text": [
            "100%|██████████| 3031/3031 [02:02<00:00, 24.67it/s]\n"
          ]
        },
        {
          "output_type": "stream",
          "name": "stdout",
          "text": [
            "tf.Tensor(b'Let there be cinuals of him comm we', shape=(), dtype=string)\n",
            "['train_loss: 1.9026206731796265']\n",
            "\n",
            "\n",
            "Epoch 69: \n"
          ]
        },
        {
          "output_type": "stream",
          "name": "stderr",
          "text": [
            "100%|██████████| 3031/3031 [02:02<00:00, 24.67it/s]\n"
          ]
        },
        {
          "output_type": "stream",
          "name": "stdout",
          "text": [
            "tf.Tensor(b'Let there before in him her peace i', shape=(), dtype=string)\n",
            "['train_loss: 1.9018577337265015']\n",
            "\n",
            "\n",
            "Epoch 70: \n"
          ]
        },
        {
          "output_type": "stream",
          "name": "stderr",
          "text": [
            "100%|██████████| 3031/3031 [02:02<00:00, 24.66it/s]\n"
          ]
        },
        {
          "output_type": "stream",
          "name": "stdout",
          "text": [
            "tf.Tensor(b'Let there behind of first is a made ', shape=(), dtype=string)\n",
            "['train_loss: 1.9015742540359497']\n",
            "\n",
            "\n",
            "Epoch 71: \n"
          ]
        },
        {
          "output_type": "stream",
          "name": "stderr",
          "text": [
            "100%|██████████| 3031/3031 [02:02<00:00, 24.67it/s]\n"
          ]
        },
        {
          "output_type": "stream",
          "name": "stdout",
          "text": [
            "tf.Tensor(b'Let there be, which are we, beholi', shape=(), dtype=string)\n",
            "['train_loss: 1.9012361764907837']\n",
            "\n",
            "\n",
            "Epoch 72: \n"
          ]
        },
        {
          "output_type": "stream",
          "name": "stderr",
          "text": [
            "100%|██████████| 3031/3031 [02:02<00:00, 24.67it/s]\n"
          ]
        },
        {
          "output_type": "stream",
          "name": "stdout",
          "text": [
            "tf.Tensor(b'Let there before woman; and from the ear', shape=(), dtype=string)\n",
            "['train_loss: 1.9007890224456787']\n",
            "\n",
            "\n",
            "Epoch 73: \n"
          ]
        },
        {
          "output_type": "stream",
          "name": "stderr",
          "text": [
            "100%|██████████| 3031/3031 [02:02<00:00, 24.67it/s]\n"
          ]
        },
        {
          "output_type": "stream",
          "name": "stdout",
          "text": [
            "tf.Tensor(b'Let there beprought out I will p', shape=(), dtype=string)\n",
            "['train_loss: 1.9007395505905151']\n",
            "\n",
            "\n",
            "Epoch 74: \n"
          ]
        },
        {
          "output_type": "stream",
          "name": "stderr",
          "text": [
            "100%|██████████| 3031/3031 [02:02<00:00, 24.67it/s]\n"
          ]
        },
        {
          "output_type": "stream",
          "name": "stdout",
          "text": [
            "tf.Tensor(b'Let there before. 1:16 And there whast of', shape=(), dtype=string)\n",
            "['train_loss: 1.9003217220306396']\n",
            "\n",
            "\n",
            "Epoch 75: \n"
          ]
        },
        {
          "output_type": "stream",
          "name": "stderr",
          "text": [
            "100%|██████████| 3031/3031 [02:02<00:00, 24.66it/s]\n"
          ]
        },
        {
          "output_type": "stream",
          "name": "stdout",
          "text": [
            "tf.Tensor(b'Let there be with the woman of bringings,', shape=(), dtype=string)\n",
            "['train_loss: 1.9003705978393555']\n",
            "\n",
            "\n",
            "Epoch 76: \n"
          ]
        },
        {
          "output_type": "stream",
          "name": "stderr",
          "text": [
            "100%|██████████| 3031/3031 [02:02<00:00, 24.67it/s]\n"
          ]
        },
        {
          "output_type": "stream",
          "name": "stdout",
          "text": [
            "tf.Tensor(b'Let there before Labeb of the fatither,', shape=(), dtype=string)\n",
            "['train_loss: 1.9000539779663086']\n",
            "\n",
            "\n",
            "Epoch 77: \n"
          ]
        },
        {
          "output_type": "stream",
          "name": "stderr",
          "text": [
            "100%|██████████| 3031/3031 [02:02<00:00, 24.68it/s]\n"
          ]
        },
        {
          "output_type": "stream",
          "name": "stdout",
          "text": [
            "tf.Tensor(b'Let there be aware Nlzaron. 4:11 And', shape=(), dtype=string)\n",
            "['train_loss: 1.8995620012283325']\n",
            "\n",
            "\n",
            "Epoch 78: \n"
          ]
        },
        {
          "output_type": "stream",
          "name": "stderr",
          "text": [
            "100%|██████████| 3031/3031 [02:02<00:00, 24.67it/s]\n"
          ]
        },
        {
          "output_type": "stream",
          "name": "stdout",
          "text": [
            "tf.Tensor(b'Let there before his come beon ye w', shape=(), dtype=string)\n",
            "['train_loss: 1.8994981050491333']\n",
            "\n",
            "\n",
            "Epoch 79: \n"
          ]
        },
        {
          "output_type": "stream",
          "name": "stderr",
          "text": [
            "100%|██████████| 3031/3031 [02:02<00:00, 24.66it/s]\n"
          ]
        },
        {
          "output_type": "stream",
          "name": "stdout",
          "text": [
            "tf.Tensor(b'Let there beast dearthbat with nonem', shape=(), dtype=string)\n",
            "['train_loss: 1.8993215560913086']\n",
            "\n",
            "\n",
            "Epoch 80: \n"
          ]
        },
        {
          "output_type": "stream",
          "name": "stderr",
          "text": [
            "100%|██████████| 3031/3031 [02:02<00:00, 24.66it/s]\n"
          ]
        },
        {
          "output_type": "stream",
          "name": "stdout",
          "text": [
            "tf.Tensor(b'Let there beson, twith fleshs is o', shape=(), dtype=string)\n",
            "['train_loss: 1.898706316947937']\n",
            "\n",
            "\n",
            "Epoch 81: \n"
          ]
        },
        {
          "output_type": "stream",
          "name": "stderr",
          "text": [
            "100%|██████████| 3031/3031 [02:02<00:00, 24.66it/s]\n"
          ]
        },
        {
          "output_type": "stream",
          "name": "stdout",
          "text": [
            "tf.Tensor(b'Let there before he saying every on v', shape=(), dtype=string)\n",
            "['train_loss: 1.8986653089523315']\n",
            "\n",
            "\n",
            "Epoch 82: \n"
          ]
        },
        {
          "output_type": "stream",
          "name": "stderr",
          "text": [
            "100%|██████████| 3031/3031 [02:02<00:00, 24.67it/s]\n"
          ]
        },
        {
          "output_type": "stream",
          "name": "stdout",
          "text": [
            "tf.Tensor(b'Let there because of the finds of the Giv', shape=(), dtype=string)\n",
            "['train_loss: 1.898268222808838']\n",
            "\n",
            "\n",
            "Epoch 83: \n"
          ]
        },
        {
          "output_type": "stream",
          "name": "stderr",
          "text": [
            "100%|██████████| 3031/3031 [02:02<00:00, 24.68it/s]\n"
          ]
        },
        {
          "output_type": "stream",
          "name": "stdout",
          "text": [
            "tf.Tensor(b'Let there be the elonid, 22:5 And the fav', shape=(), dtype=string)\n",
            "['train_loss: 1.898231029510498']\n",
            "\n",
            "\n",
            "Epoch 84: \n"
          ]
        },
        {
          "output_type": "stream",
          "name": "stderr",
          "text": [
            "100%|██████████| 3031/3031 [02:02<00:00, 24.67it/s]\n"
          ]
        },
        {
          "output_type": "stream",
          "name": "stdout",
          "text": [
            "tf.Tensor(b'Let there before of the my of Israels w', shape=(), dtype=string)\n",
            "['train_loss: 1.8982014656066895']\n",
            "\n",
            "\n",
            "Epoch 85: \n"
          ]
        },
        {
          "output_type": "stream",
          "name": "stderr",
          "text": [
            "100%|██████████| 3031/3031 [02:02<00:00, 24.67it/s]\n"
          ]
        },
        {
          "output_type": "stream",
          "name": "stdout",
          "text": [
            "tf.Tensor(b'Let there behold, the shorted the hour', shape=(), dtype=string)\n",
            "['train_loss: 1.8978097438812256']\n",
            "\n",
            "\n",
            "Epoch 86: \n"
          ]
        },
        {
          "output_type": "stream",
          "name": "stderr",
          "text": [
            "100%|██████████| 3031/3031 [02:02<00:00, 24.68it/s]\n"
          ]
        },
        {
          "output_type": "stream",
          "name": "stdout",
          "text": [
            "tf.Tensor(b'Let there begat asks. 15:1 God c', shape=(), dtype=string)\n",
            "['train_loss: 1.897599458694458']\n",
            "\n",
            "\n",
            "Epoch 87: \n"
          ]
        },
        {
          "output_type": "stream",
          "name": "stderr",
          "text": [
            "100%|██████████| 3031/3031 [02:02<00:00, 24.67it/s]\n"
          ]
        },
        {
          "output_type": "stream",
          "name": "stdout",
          "text": [
            "tf.Tensor(b'Let there belineveyarly of ith mouth unto', shape=(), dtype=string)\n",
            "['train_loss: 1.897335171699524']\n",
            "\n",
            "\n",
            "Epoch 88: \n"
          ]
        },
        {
          "output_type": "stream",
          "name": "stderr",
          "text": [
            "100%|██████████| 3031/3031 [02:02<00:00, 24.68it/s]\n"
          ]
        },
        {
          "output_type": "stream",
          "name": "stdout",
          "text": [
            "tf.Tensor(b'Let there behind Peter, and smoth me', shape=(), dtype=string)\n",
            "['train_loss: 1.8969635963439941']\n",
            "\n",
            "\n",
            "Epoch 89: \n"
          ]
        },
        {
          "output_type": "stream",
          "name": "stderr",
          "text": [
            "100%|██████████| 3031/3031 [02:02<00:00, 24.68it/s]\n"
          ]
        },
        {
          "output_type": "stream",
          "name": "stdout",
          "text": [
            "tf.Tensor(b'Let there beufs offerings of the threend. ', shape=(), dtype=string)\n",
            "['train_loss: 1.8969314098358154']\n",
            "\n",
            "\n",
            "Epoch 90: \n"
          ]
        },
        {
          "output_type": "stream",
          "name": "stderr",
          "text": [
            "100%|██████████| 3031/3031 [02:02<00:00, 24.67it/s]\n"
          ]
        },
        {
          "output_type": "stream",
          "name": "stdout",
          "text": [
            "tf.Tensor(b'Let there before fart, and saints it i', shape=(), dtype=string)\n",
            "['train_loss: 1.8964884281158447']\n",
            "\n",
            "\n",
            "Epoch 91: \n"
          ]
        },
        {
          "output_type": "stream",
          "name": "stderr",
          "text": [
            "100%|██████████| 3031/3031 [02:02<00:00, 24.67it/s]\n"
          ]
        },
        {
          "output_type": "stream",
          "name": "stdout",
          "text": [
            "tf.Tensor(b'Let there be? 11 Shward the beast, I re', shape=(), dtype=string)\n",
            "['train_loss: 1.8961340188980103']\n",
            "\n",
            "\n",
            "Epoch 92: \n"
          ]
        },
        {
          "output_type": "stream",
          "name": "stderr",
          "text": [
            "100%|██████████| 3031/3031 [02:02<00:00, 24.67it/s]\n"
          ]
        },
        {
          "output_type": "stream",
          "name": "stdout",
          "text": [
            "tf.Tensor(b'Let there be is now that he mayinance? ', shape=(), dtype=string)\n",
            "['train_loss: 1.8961479663848877']\n",
            "\n",
            "\n",
            "Epoch 93: \n"
          ]
        },
        {
          "output_type": "stream",
          "name": "stderr",
          "text": [
            "100%|██████████| 3031/3031 [02:02<00:00, 24.68it/s]\n"
          ]
        },
        {
          "output_type": "stream",
          "name": "stdout",
          "text": [
            "tf.Tensor(b'Let there best. 21:2 And a budon the go', shape=(), dtype=string)\n",
            "['train_loss: 1.89588463306427']\n",
            "\n",
            "\n",
            "Epoch 94: \n"
          ]
        },
        {
          "output_type": "stream",
          "name": "stderr",
          "text": [
            "100%|██████████| 3031/3031 [02:02<00:00, 24.67it/s]\n"
          ]
        },
        {
          "output_type": "stream",
          "name": "stdout",
          "text": [
            "tf.Tensor(b'Let there behis worshion of the four', shape=(), dtype=string)\n",
            "['train_loss: 1.8957412242889404']\n",
            "\n",
            "\n",
            "Epoch 95: \n"
          ]
        },
        {
          "output_type": "stream",
          "name": "stderr",
          "text": [
            "100%|██████████| 3031/3031 [02:02<00:00, 24.66it/s]\n"
          ]
        },
        {
          "output_type": "stream",
          "name": "stdout",
          "text": [
            "tf.Tensor(b'Let there bed, the beast? 1:1 Thas w', shape=(), dtype=string)\n",
            "['train_loss: 1.8954726457595825']\n",
            "\n",
            "\n",
            "Epoch 96: \n"
          ]
        },
        {
          "output_type": "stream",
          "name": "stderr",
          "text": [
            "100%|██████████| 3031/3031 [02:02<00:00, 24.67it/s]\n"
          ]
        },
        {
          "output_type": "stream",
          "name": "stdout",
          "text": [
            "tf.Tensor(b'Let there beast of the Gention beast the Jes', shape=(), dtype=string)\n",
            "['train_loss: 1.8954286575317383']\n",
            "\n",
            "\n",
            "Epoch 97: \n"
          ]
        },
        {
          "output_type": "stream",
          "name": "stderr",
          "text": [
            "100%|██████████| 3031/3031 [02:02<00:00, 24.65it/s]\n"
          ]
        },
        {
          "output_type": "stream",
          "name": "stdout",
          "text": [
            "tf.Tensor(b'Let there be cuty, Lord, hithin the', shape=(), dtype=string)\n",
            "['train_loss: 1.8950804471969604']\n",
            "\n",
            "\n",
            "Epoch 98: \n"
          ]
        },
        {
          "output_type": "stream",
          "name": "stderr",
          "text": [
            "100%|██████████| 3031/3031 [02:02<00:00, 24.67it/s]\n"
          ]
        },
        {
          "output_type": "stream",
          "name": "stdout",
          "text": [
            "tf.Tensor(b'Let there beast, were God. 3:28 And', shape=(), dtype=string)\n",
            "['train_loss: 1.895329475402832']\n",
            "\n",
            "\n",
            "Epoch 99: \n"
          ]
        },
        {
          "output_type": "stream",
          "name": "stderr",
          "text": [
            "100%|██████████| 3031/3031 [02:02<00:00, 24.67it/s]\n"
          ]
        },
        {
          "output_type": "stream",
          "name": "stdout",
          "text": [
            "tf.Tensor(b'Let there beliehds, because were ', shape=(), dtype=string)\n",
            "['train_loss: 1.894648790359497']\n",
            "\n",
            "\n"
          ]
        }
      ]
    },
    {
      "cell_type": "code",
      "source": [
        "model.save(\"/content/drive/MyDrive/transformer_model\")"
      ],
      "metadata": {
        "colab": {
          "base_uri": "https://localhost:8080/"
        },
        "id": "zX4OPJQ422dz",
        "outputId": "34ce8894-0efc-417c-c44c-0ae7ac8357d1"
      },
      "execution_count": 103,
      "outputs": [
        {
          "output_type": "stream",
          "name": "stderr",
          "text": [
            "WARNING:absl:Found untraced functions such as _update_step_xla, embedding_14_layer_call_fn, embedding_14_layer_call_and_return_conditional_losses, embedding_15_layer_call_fn, embedding_15_layer_call_and_return_conditional_losses while saving (showing 5 of 31). These functions will not be directly callable after loading.\n"
          ]
        }
      ]
    }
  ]
}